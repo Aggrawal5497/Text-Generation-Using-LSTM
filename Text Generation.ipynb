{
 "cells": [
  {
   "cell_type": "markdown",
   "metadata": {},
   "source": [
    "# Text Generation using Tensorflow LSTM\n",
    "\n",
    "## Importing libraries\n",
    "- `numpy` : for batch feeding\n",
    "- `nltk` : for tokenizing the sentences into words\n",
    "- `re` : for cleaning text\n",
    "- `collections` : deque, for generating text\n",
    "- `random` : to generated randomness in training data\n",
    "- `mtplotlib` : for Loss ploting"
   ]
  },
  {
   "cell_type": "code",
   "execution_count": 1,
   "metadata": {},
   "outputs": [],
   "source": [
    "import numpy as np\n",
    "from nltk import word_tokenize\n",
    "import re\n",
    "import collections\n",
    "import random\n",
    "import matplotlib.pyplot as plt"
   ]
  },
  {
   "cell_type": "markdown",
   "metadata": {},
   "source": [
    "## Reading text from File"
   ]
  },
  {
   "cell_type": "code",
   "execution_count": 2,
   "metadata": {},
   "outputs": [
    {
     "name": "stdout",
     "output_type": "stream",
     "text": [
      "Reading file . . .\n",
      "File read complete!\n"
     ]
    }
   ],
   "source": [
    "print(\"Reading file . . .\")\n",
    "f = open(\"book.txt\", \"r\")\n",
    "val = f.readlines()\n",
    "f.close()\n",
    "print(\"File read complete!\")"
   ]
  },
  {
   "cell_type": "markdown",
   "metadata": {},
   "source": [
    "## Cleaning and Preparing data\n",
    "### Steps\n",
    "- text converted to lower case\n",
    "- removed extra empty lines\n",
    "- generated spaces between punctuations\n",
    "- tokenizing text into words\n",
    "- creating dictionaries for `word_to_index` and vice-versa\n",
    "- conerting text to indexed data for feeding into LSTM model"
   ]
  },
  {
   "cell_type": "code",
   "execution_count": 3,
   "metadata": {
    "scrolled": true
   },
   "outputs": [
    {
     "name": "stdout",
     "output_type": "stream",
     "text": [
      "Cleaning and preparing data. . .\n",
      "Important Dictionaries Created!!\n",
      "Total words in text : 2770\n",
      "Converting text to indexed data\n",
      "Conversion Complete!\n"
     ]
    }
   ],
   "source": [
    "print(\"Cleaning and preparing data. . .\")\n",
    "z = [x.strip().lower() for x in val]\n",
    "full = []\n",
    "j = 0\n",
    "for i in range(len(z)):\n",
    "    if(z[i] == ''):\n",
    "        full.append(z[j:i])\n",
    "        j = i\n",
    "\n",
    "for val in full:\n",
    "    for i, part in enumerate(val):\n",
    "        if part == \"\":\n",
    "            del(val[i])\n",
    "\n",
    "data = []\n",
    "for val in full:\n",
    "    data.append(' '.join(val))\n",
    "\n",
    "for i in range(len(data)):\n",
    "    data[i] = re.sub(\"[.]\", \" .\", data[i])\n",
    "\n",
    "pdata = []\n",
    "for sent in data:\n",
    "    x = word_tokenize(sent)\n",
    "    x.insert(0, \"<go>\")\n",
    "    x.append(\"<eos>\")\n",
    "    pdata.append(x)\n",
    "    \n",
    "temp = [item for sublist in pdata for item in sublist]\n",
    "\n",
    "word_to_idx = {\"<go>\" : 0, \"<eos>\" : 1}\n",
    "total_words = set(word_tokenize(\" \".join(temp)))\n",
    "\n",
    "for word in total_words:\n",
    "    word_to_idx[word] = len(word_to_idx)\n",
    "    \n",
    "idx_to_word = dict(zip(word_to_idx.values(), word_to_idx.keys()))\n",
    "print(\"Important Dictionaries Created!!\")\n",
    "print(\"Total words in text : {}\".format(len(word_to_idx)))\n",
    "print(\"Converting text to indexed data\")\n",
    "idata = []\n",
    "for sent in pdata:\n",
    "    x = list(map(lambda x : word_to_idx[x], sent))\n",
    "    idata.append(x)\n",
    "    \n",
    "original = [item for sublist in pdata for item in sublist]\n",
    "main = [item for sublist in idata for item in sublist]\n",
    "print(\"Conversion Complete!\")"
   ]
  },
  {
   "cell_type": "markdown",
   "metadata": {},
   "source": [
    "## Training data generator"
   ]
  },
  {
   "cell_type": "code",
   "execution_count": 4,
   "metadata": {},
   "outputs": [],
   "source": [
    "class DataGenerator:\n",
    "    def __init__(self, dataset, batch_size = 10, seq_len = 5, next_predict = 1):\n",
    "        self.batch_size = batch_size\n",
    "        self.data = dataset\n",
    "        self.current_idx = 0\n",
    "        self.seq_len = seq_len\n",
    "        self.next_predict = next_predict\n",
    "        \n",
    "    def getBatch(self):\n",
    "        x = np.zeros((self.batch_size, self.seq_len))\n",
    "        y = np.zeros((self.batch_size, self.next_predict))\n",
    "        while True:\n",
    "            if(self.current_idx + self.seq_len * self.batch_size >= len(self.data)):\n",
    "                self.current_idx = 0\n",
    "            for i in range(self.batch_size):\n",
    "                #print(self.current_idx, self.seq_len, self.next_predict)\n",
    "                x[i, :] = self.data[self.current_idx : self.current_idx + self.seq_len]\n",
    "                y[i, :] = self.data[self.current_idx + self.seq_len: self.current_idx + self.seq_len + self.next_predict]\n",
    "                self.current_idx += self.next_predict\n",
    "            yield x, y"
   ]
  },
  {
   "cell_type": "markdown",
   "metadata": {},
   "source": [
    "### Sample output of data generator"
   ]
  },
  {
   "cell_type": "code",
   "execution_count": 5,
   "metadata": {},
   "outputs": [
    {
     "name": "stdout",
     "output_type": "stream",
     "text": [
      "[[   0. 1163. 1194. 1052.  280.]\n",
      " [1163. 1194. 1052.  280.  459.]\n",
      " [1194. 1052.  280.  459. 2085.]\n",
      " [1052.  280.  459. 2085. 1659.]\n",
      " [ 280.  459. 2085. 1659.  273.]]\n",
      "[[ 459.]\n",
      " [2085.]\n",
      " [1659.]\n",
      " [ 273.]\n",
      " [ 835.]]\n"
     ]
    }
   ],
   "source": [
    "ss = DataGenerator(main, 5, 5)\n",
    "\n",
    "x, y = next(ss.getBatch())\n",
    "print(x)\n",
    "print(y)"
   ]
  },
  {
   "cell_type": "markdown",
   "metadata": {},
   "source": [
    "# Tensorflow Model"
   ]
  },
  {
   "cell_type": "code",
   "execution_count": 6,
   "metadata": {},
   "outputs": [
    {
     "name": "stderr",
     "output_type": "stream",
     "text": [
      "c:\\users\\acer\\appdata\\local\\programs\\python\\python35\\lib\\site-packages\\h5py\\__init__.py:36: FutureWarning: Conversion of the second argument of issubdtype from `float` to `np.floating` is deprecated. In future, it will be treated as `np.float64 == np.dtype(float).type`.\n",
      "  from ._conv import register_converters as _register_converters\n"
     ]
    }
   ],
   "source": [
    "import tensorflow as tf"
   ]
  },
  {
   "cell_type": "markdown",
   "metadata": {},
   "source": [
    "## Inference function"
   ]
  },
  {
   "cell_type": "code",
   "execution_count": 7,
   "metadata": {},
   "outputs": [],
   "source": [
    "def generate_text(s, count = 1, training = True):\n",
    "    x_val = collections.deque(maxlen = 10)\n",
    "    x_val.append(0)\n",
    "    generated = []\n",
    "    eos_count = 0\n",
    "    word_count = 0\n",
    "    if(training):\n",
    "        while eos_count < count and word_count < 50:\n",
    "            a = s.run(out, feed_dict = {inputs : [x_val]})\n",
    "            generated.append(idx_to_word[a[0]])\n",
    "            x_val.append(a[0])\n",
    "            if(a[0] == 1):\n",
    "                eos_count += 1\n",
    "            word_count += 1\n",
    "    else:\n",
    "        while eos_count < count:\n",
    "            a = s.run(out, feed_dict = {inputs : [x_val]})\n",
    "            generated.append(idx_to_word[a[0]])\n",
    "            x_val.append(a[0])\n",
    "            if(a[0] == 1):\n",
    "                eos_count += 1\n",
    "            word_count += 1\n",
    "\n",
    "    #print(\" \".join(generated))\n",
    "    return \" \".join(generated)"
   ]
  },
  {
   "cell_type": "markdown",
   "metadata": {},
   "source": [
    "## Training cell"
   ]
  },
  {
   "cell_type": "code",
   "execution_count": 8,
   "metadata": {
    "scrolled": true
   },
   "outputs": [
    {
     "name": "stdout",
     "output_type": "stream",
     "text": [
      "Training Start\n",
      "Iteration 10, Loss : 4.36\n",
      "Sample Text :\n",
      "\n",
      "“ i got and the place , for for instance , they taught you that would be convenient to be convenient to be sat and down . it was so , and i got to my mind . \n",
      "Iteration 20, Loss : 2.34\n",
      "Sample Text :\n",
      "\n",
      "“ but you can not move about in time . ” \n",
      "Iteration 30, Loss : 0.08\n",
      "Sample Text :\n",
      "\n",
      "“ there is the means of inactive for twenty-four , ” said the time traveller . “ what on a large buildings towards the score of were little people have no fame of the ) and three of cheerfully . things came clear to me . what on the idea\n",
      "Iteration 40, Loss : 0.48\n",
      "Sample Text :\n",
      "\n",
      "“ there is the hail curtain , having only being me . then of it is odd , too , how how she would be suddenly as along their bronze abundant , and white an sound speaker . ’ \n",
      "Iteration 50, Loss : 0.08\n",
      "Sample Text :\n",
      "\n",
      "“ and there were , mattered , i pointed to the sun . at once a quaintly pretty little figure in chequered purple and white followed my gesture , and then astonished me by imitating the sound of thunder . \n",
      "Iteration 60, Loss : 0.14\n",
      "Sample Text :\n",
      "\n",
      "“ and there rose a white or silvery figure in the waste garden of the earth , here and there came the sharp vertical line of some cupola or obelisk . there were no hedges , no signs of proprietary rights , no evidences of agriculture ; the whole earth\n",
      "Iteration 70, Loss : 0.39\n",
      "Sample Text :\n",
      "\n",
      "“ there was a little travel-worn , truly ; and one of the ivory bars is cracked , and a brass rail bent ; but the rest of it ’ s sound enough . i expected to finish it on friday ; but on friday when the putting together was\n",
      "Iteration 80, Loss : 0.11\n",
      "Sample Text :\n",
      "\n",
      "“ there was a different problem . i saw the heads of a hope , perhaps , but to recover completely . then he was not loath to follow their example , for i felt thirsty and hungry . as i did so i surveyed the hall at my leisure\n",
      "Iteration 90, Loss : 0.00\n",
      "Sample Text :\n",
      "\n",
      "“ in the future , and the journalist too , not would not believe at any price , and joined the editor in the easy work of heaping ridicule on the whole thing . they were both the new kind of journalist—very joyous , irreverent young men . “ our\n",
      "Iteration 100, Loss : 0.00\n",
      "Sample Text :\n",
      "\n",
      "“ there was no trickery . i don ’ t want to waste this model , and then be told i ’ m a quack . ” \n",
      "Training Ended\n"
     ]
    }
   ],
   "source": [
    "MAX_TIME = 10\n",
    "BATCH_SIZE = 15\n",
    "SAMPLE_SIZE = 5\n",
    "INPUT_DEPTH = 300\n",
    "OUTPUT_DIM = 128\n",
    "VOCAB_SIZE = len(word_to_idx)\n",
    "LOSS = []\n",
    "ss = DataGenerator(main, BATCH_SIZE, MAX_TIME)\n",
    "\n",
    "inputs = tf.placeholder(shape=[None, None], dtype=tf.int32, name=\"Idata\")\n",
    "outputs = tf.placeholder(shape=[None, None], dtype=tf.int32, name=\"Odata\")\n",
    "\n",
    "W = tf.Variable(tf.random_normal(shape=[OUTPUT_DIM, VOCAB_SIZE], name=\"W\", dtype=tf.float32))\n",
    "b = tf.Variable(tf.random_normal(shape=[VOCAB_SIZE], name=\"b\", dtype=tf.float32))\n",
    "\n",
    "embeddings = tf.get_variable(name=\"embeddings\", shape=[VOCAB_SIZE, INPUT_DEPTH], initializer=tf.glorot_uniform_initializer())\n",
    "out = tf.nn.embedding_lookup(embeddings, inputs)\n",
    "\n",
    "cell = tf.nn.rnn_cell.BasicLSTMCell(OUTPUT_DIM)\n",
    "op, state = tf.nn.dynamic_rnn(cell, out, dtype=tf.float32)\n",
    "\n",
    "max_steps, batch_size, dim = tf.unstack(tf.shape(op))\n",
    "\n",
    "flat = tf.reshape(op, (-1, OUTPUT_DIM), name=\"Wassup\")\n",
    "logits = tf.matmul(flat, W) + b\n",
    "back = tf.reshape(logits, (max_steps, batch_size, VOCAB_SIZE), name=\"Done\")\n",
    "\n",
    "out = tf.argmax(back[:, -1, :], 1)\n",
    "\n",
    "stepwise_cross_entropy = tf.nn.softmax_cross_entropy_with_logits(\n",
    "    labels=tf.one_hot(outputs, depth=VOCAB_SIZE, dtype=tf.float32),\n",
    "    logits=back[:, -1, :],\n",
    ")\n",
    "\n",
    "loss = tf.reduce_mean(stepwise_cross_entropy)\n",
    "train_op = tf.train.AdamOptimizer().minimize(loss)\n",
    "\n",
    "sess = tf.Session()\n",
    "sess.run(tf.global_variables_initializer())\n",
    "print(\"Training Start\")\n",
    "for i in range(100):\n",
    "    for j in range(len(main) // 25):\n",
    "        z = random.sample(list(range(BATCH_SIZE)), 5)\n",
    "        x, y = next(ss.getBatch())\n",
    "        x = x[z]\n",
    "        y = y[z]\n",
    "        a, l, _ = sess.run([out, loss, train_op], feed_dict = {inputs : x, outputs : y})\n",
    "    LOSS.append(l)\n",
    "    if(i + 1) % 10 == 0:\n",
    "        print(\"Iteration {}, Loss : {:.2f}\".format(i+1, l))\n",
    "        print(\"Sample Text :\\n\")\n",
    "        x = generate_text(sess)\n",
    "        print(\"\".join(x.replace(\"<go>\", \" \").split(\"<eos>\")))\n",
    "        \n",
    "print(\"Training Ended\")"
   ]
  },
  {
   "cell_type": "markdown",
   "metadata": {},
   "source": [
    "## Plotting Loss"
   ]
  },
  {
   "cell_type": "code",
   "execution_count": 9,
   "metadata": {},
   "outputs": [
    {
     "data": {
      "image/png": "[encoded data removed]",
      "text/plain": [
       "<matplotlib.figure.Figure at 0x24009432780>"
      ]
     },
     "metadata": {},
     "output_type": "display_data"
    }
   ],
   "source": [
    "plt.plot(list(range(100)), LOSS)\n",
    "plt.title(\"Loss\")\n",
    "plt.xlabel(\"Iteration\")\n",
    "plt.ylabel(\"Loss Value\")\n",
    "plt.show()"
   ]
  },
  {
   "cell_type": "markdown",
   "metadata": {},
   "source": [
    "## Text generated after training"
   ]
  },
  {
   "cell_type": "code",
   "execution_count": 10,
   "metadata": {},
   "outputs": [],
   "source": [
    "x = generate_text(sess, 10, training = False)"
   ]
  },
  {
   "cell_type": "code",
   "execution_count": 11,
   "metadata": {},
   "outputs": [
    {
     "data": {
      "text/plain": [
       "'“ there was no trickery . i don ’ t want to waste this model , and then be told i ’ m a quack . ”    there was a minute ’ s pause perhaps . the psychologist seemed about to speak to me , but changed his mind . then the time traveller put forth his finger towards the lever .    “ no , ” he said .    “ yes , so the seemed to me , and so i never talked of it until— ”    “ experimental verification ! ” cried i . “ you are going to verify _that_ ? ”    “ the experiment ! ” cried filby , who was getting brain-weary .    “ let ’ s see your experiment anyhow , ” said the psychologist , “ though it ’ s all humbug , you know . ”    the time traveller smiled round at us , as we are did not so . but wait inactive for twenty-four hours—that is another matter .    “ i got up after all , a time , and began walking aimlessly through the bushes towards the hill again . ‘ patience , ’ said i to myself . ‘ if you want your machine again you must leave that sphinx alone . if they mean to take your machine away , it ’ s s white his drift of the malachite tables , suggestion of it on the face , i have said the machine as i felt then . i took it took two years to make , ” retorted the time traveller . then , when we had all imitated the action of the medical man , he said : “ now i want you clearly to understand that this lever , being pressed over , sends the machine gliding into the future , and this other reverses the motion . this saddle represents the seat of a time traveller . presently i am going to press the lever , no off the machine .    this thing got only him we a means of staying back for any length of time , any more than a savage or an animal has of staying six feet above the ground . but a civilised man is better off than the time traveller . '"
      ]
     },
     "execution_count": 11,
     "metadata": {},
     "output_type": "execute_result"
    }
   ],
   "source": [
    "\"\".join(x.replace(\"<go>\", \" \").split(\"<eos>\"))"
   ]
  }
 ],
 "metadata": {
  "kernelspec": {
   "display_name": "Python 3",
   "language": "python",
   "name": "python3"
  },
  "language_info": {
   "codemirror_mode": {
    "name": "ipython",
    "version": 3
   },
   "file_extension": ".py",
   "mimetype": "text/x-python",
   "name": "python",
   "nbconvert_exporter": "python",
   "pygments_lexer": "ipython3",
   "version": "3.5.3"
  }
 },
 "nbformat": 4,
 "nbformat_minor": 2
}
